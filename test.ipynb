{
 "cells": [
  {
   "cell_type": "code",
   "execution_count": 4,
   "metadata": {},
   "outputs": [
    {
     "ename": "RuntimeError",
     "evalue": "asyncio.run() cannot be called from a running event loop",
     "output_type": "error",
     "traceback": [
      "\u001b[0;31m---------------------------------------------------------------------------\u001b[0m",
      "\u001b[0;31mRuntimeError\u001b[0m                              Traceback (most recent call last)",
      "\u001b[1;32m/home/johnbjohn/git-repos/schedulearn/test.ipynb Cell 1\u001b[0m in \u001b[0;36m<cell line: 55>\u001b[0;34m()\u001b[0m\n\u001b[1;32m     <a href='vscode-notebook-cell://ssh-remote%2B140.114.28.247/home/johnbjohn/git-repos/schedulearn/test.ipynb#W0sdnNjb2RlLXJlbW90ZQ%3D%3D?line=41'>42</a>\u001b[0m             gpus\u001b[39m.\u001b[39mappend(\n\u001b[1;32m     <a href='vscode-notebook-cell://ssh-remote%2B140.114.28.247/home/johnbjohn/git-repos/schedulearn/test.ipynb#W0sdnNjb2RlLXJlbW90ZQ%3D%3D?line=42'>43</a>\u001b[0m                 Gpu(\n\u001b[1;32m     <a href='vscode-notebook-cell://ssh-remote%2B140.114.28.247/home/johnbjohn/git-repos/schedulearn/test.ipynb#W0sdnNjb2RlLXJlbW90ZQ%3D%3D?line=43'>44</a>\u001b[0m                     server\u001b[39m=\u001b[39mserver, \n\u001b[0;32m   (...)\u001b[0m\n\u001b[1;32m     <a href='vscode-notebook-cell://ssh-remote%2B140.114.28.247/home/johnbjohn/git-repos/schedulearn/test.ipynb#W0sdnNjb2RlLXJlbW90ZQ%3D%3D?line=50'>51</a>\u001b[0m                 )\n\u001b[1;32m     <a href='vscode-notebook-cell://ssh-remote%2B140.114.28.247/home/johnbjohn/git-repos/schedulearn/test.ipynb#W0sdnNjb2RlLXJlbW90ZQ%3D%3D?line=51'>52</a>\u001b[0m             )\n\u001b[1;32m     <a href='vscode-notebook-cell://ssh-remote%2B140.114.28.247/home/johnbjohn/git-repos/schedulearn/test.ipynb#W0sdnNjb2RlLXJlbW90ZQ%3D%3D?line=52'>53</a>\u001b[0m     \u001b[39mreturn\u001b[39;00m gpus\n\u001b[0;32m---> <a href='vscode-notebook-cell://ssh-remote%2B140.114.28.247/home/johnbjohn/git-repos/schedulearn/test.ipynb#W0sdnNjb2RlLXJlbW90ZQ%3D%3D?line=54'>55</a>\u001b[0m \u001b[39mprint\u001b[39m(timeit\u001b[39m.\u001b[39;49mtimeit(\u001b[39m\"\u001b[39;49m\u001b[39mget_gpus()\u001b[39;49m\u001b[39m\"\u001b[39;49m, setup\u001b[39m=\u001b[39;49m\u001b[39m\"\u001b[39;49m\u001b[39mfrom __main__ import get_gpus\u001b[39;49m\u001b[39m\"\u001b[39;49m, number\u001b[39m=\u001b[39;49m\u001b[39m1\u001b[39;49m))\n",
      "File \u001b[0;32m~/anaconda3/envs/schedulearn/lib/python3.10/timeit.py:234\u001b[0m, in \u001b[0;36mtimeit\u001b[0;34m(stmt, setup, timer, number, globals)\u001b[0m\n\u001b[1;32m    231\u001b[0m \u001b[39mdef\u001b[39;00m \u001b[39mtimeit\u001b[39m(stmt\u001b[39m=\u001b[39m\u001b[39m\"\u001b[39m\u001b[39mpass\u001b[39m\u001b[39m\"\u001b[39m, setup\u001b[39m=\u001b[39m\u001b[39m\"\u001b[39m\u001b[39mpass\u001b[39m\u001b[39m\"\u001b[39m, timer\u001b[39m=\u001b[39mdefault_timer,\n\u001b[1;32m    232\u001b[0m            number\u001b[39m=\u001b[39mdefault_number, \u001b[39mglobals\u001b[39m\u001b[39m=\u001b[39m\u001b[39mNone\u001b[39;00m):\n\u001b[1;32m    233\u001b[0m     \u001b[39m\"\"\"Convenience function to create Timer object and call timeit method.\"\"\"\u001b[39;00m\n\u001b[0;32m--> 234\u001b[0m     \u001b[39mreturn\u001b[39;00m Timer(stmt, setup, timer, \u001b[39mglobals\u001b[39;49m)\u001b[39m.\u001b[39;49mtimeit(number)\n",
      "File \u001b[0;32m~/anaconda3/envs/schedulearn/lib/python3.10/timeit.py:178\u001b[0m, in \u001b[0;36mTimer.timeit\u001b[0;34m(self, number)\u001b[0m\n\u001b[1;32m    176\u001b[0m gc\u001b[39m.\u001b[39mdisable()\n\u001b[1;32m    177\u001b[0m \u001b[39mtry\u001b[39;00m:\n\u001b[0;32m--> 178\u001b[0m     timing \u001b[39m=\u001b[39m \u001b[39mself\u001b[39;49m\u001b[39m.\u001b[39;49minner(it, \u001b[39mself\u001b[39;49m\u001b[39m.\u001b[39;49mtimer)\n\u001b[1;32m    179\u001b[0m \u001b[39mfinally\u001b[39;00m:\n\u001b[1;32m    180\u001b[0m     \u001b[39mif\u001b[39;00m gcold:\n",
      "File \u001b[0;32m<timeit-src>:6\u001b[0m, in \u001b[0;36minner\u001b[0;34m(_it, _timer)\u001b[0m\n",
      "\u001b[1;32m/home/johnbjohn/git-repos/schedulearn/test.ipynb Cell 1\u001b[0m in \u001b[0;36mget_gpus\u001b[0;34m()\u001b[0m\n\u001b[1;32m     <a href='vscode-notebook-cell://ssh-remote%2B140.114.28.247/home/johnbjohn/git-repos/schedulearn/test.ipynb#W0sdnNjb2RlLXJlbW90ZQ%3D%3D?line=36'>37</a>\u001b[0m \u001b[39mdef\u001b[39;00m \u001b[39mget_gpus\u001b[39m() \u001b[39m-\u001b[39m\u001b[39m>\u001b[39m \u001b[39mlist\u001b[39m[Gpu]:\n\u001b[1;32m     <a href='vscode-notebook-cell://ssh-remote%2B140.114.28.247/home/johnbjohn/git-repos/schedulearn/test.ipynb#W0sdnNjb2RlLXJlbW90ZQ%3D%3D?line=37'>38</a>\u001b[0m     gpus \u001b[39m=\u001b[39m []\n\u001b[0;32m---> <a href='vscode-notebook-cell://ssh-remote%2B140.114.28.247/home/johnbjohn/git-repos/schedulearn/test.ipynb#W0sdnNjb2RlLXJlbW90ZQ%3D%3D?line=38'>39</a>\u001b[0m     results \u001b[39m=\u001b[39m asyncio\u001b[39m.\u001b[39;49mrun(gather_gpu_stats())\n\u001b[1;32m     <a href='vscode-notebook-cell://ssh-remote%2B140.114.28.247/home/johnbjohn/git-repos/schedulearn/test.ipynb#W0sdnNjb2RlLXJlbW90ZQ%3D%3D?line=39'>40</a>\u001b[0m     \u001b[39mfor\u001b[39;00m server, result \u001b[39min\u001b[39;00m \u001b[39mzip\u001b[39m([\u001b[39m'\u001b[39m\u001b[39mgpu3\u001b[39m\u001b[39m'\u001b[39m, \u001b[39m'\u001b[39m\u001b[39mgpu4\u001b[39m\u001b[39m'\u001b[39m, \u001b[39m'\u001b[39m\u001b[39mgpu5\u001b[39m\u001b[39m'\u001b[39m], results):\n\u001b[1;32m     <a href='vscode-notebook-cell://ssh-remote%2B140.114.28.247/home/johnbjohn/git-repos/schedulearn/test.ipynb#W0sdnNjb2RlLXJlbW90ZQ%3D%3D?line=40'>41</a>\u001b[0m         \u001b[39mfor\u001b[39;00m i, stat \u001b[39min\u001b[39;00m \u001b[39menumerate\u001b[39m(csv\u001b[39m.\u001b[39mreader(result, delimiter\u001b[39m=\u001b[39m\u001b[39m'\u001b[39m\u001b[39m,\u001b[39m\u001b[39m'\u001b[39m)):\n",
      "File \u001b[0;32m~/anaconda3/envs/schedulearn/lib/python3.10/asyncio/runners.py:33\u001b[0m, in \u001b[0;36mrun\u001b[0;34m(main, debug)\u001b[0m\n\u001b[1;32m      9\u001b[0m \u001b[39m\"\"\"Execute the coroutine and return the result.\u001b[39;00m\n\u001b[1;32m     10\u001b[0m \n\u001b[1;32m     11\u001b[0m \u001b[39mThis function runs the passed coroutine, taking care of\u001b[39;00m\n\u001b[0;32m   (...)\u001b[0m\n\u001b[1;32m     30\u001b[0m \u001b[39m    asyncio.run(main())\u001b[39;00m\n\u001b[1;32m     31\u001b[0m \u001b[39m\"\"\"\u001b[39;00m\n\u001b[1;32m     32\u001b[0m \u001b[39mif\u001b[39;00m events\u001b[39m.\u001b[39m_get_running_loop() \u001b[39mis\u001b[39;00m \u001b[39mnot\u001b[39;00m \u001b[39mNone\u001b[39;00m:\n\u001b[0;32m---> 33\u001b[0m     \u001b[39mraise\u001b[39;00m \u001b[39mRuntimeError\u001b[39;00m(\n\u001b[1;32m     34\u001b[0m         \u001b[39m\"\u001b[39m\u001b[39masyncio.run() cannot be called from a running event loop\u001b[39m\u001b[39m\"\u001b[39m)\n\u001b[1;32m     36\u001b[0m \u001b[39mif\u001b[39;00m \u001b[39mnot\u001b[39;00m coroutines\u001b[39m.\u001b[39miscoroutine(main):\n\u001b[1;32m     37\u001b[0m     \u001b[39mraise\u001b[39;00m \u001b[39mValueError\u001b[39;00m(\u001b[39m\"\u001b[39m\u001b[39ma coroutine was expected, got \u001b[39m\u001b[39m{!r}\u001b[39;00m\u001b[39m\"\u001b[39m\u001b[39m.\u001b[39mformat(main))\n",
      "\u001b[0;31mRuntimeError\u001b[0m: asyncio.run() cannot be called from a running event loop"
     ]
    }
   ],
   "source": [
    "import asyncio\n",
    "from datetime import datetime\n",
    "from dataclasses import dataclass\n",
    "import csv\n",
    "import timeit\n",
    "\n",
    "@dataclass(frozen=True)\n",
    "class Gpu:\n",
    "    server: str\n",
    "    uuid: str\n",
    "    id: int\n",
    "    name: str\n",
    "    utilization: float\n",
    "    memory_usage: int\n",
    "    timestamp: datetime\n",
    "\n",
    "    def __str__(self):\n",
    "        return f\"{self.server},{self.uuid},{self.id},{self.name},{self.utilization},{self.memory_usage},{self.timestamp}\"\n",
    "\n",
    "async def get_gpu_stats(server):\n",
    "    proc = await asyncio.create_subprocess_exec(\n",
    "        'ssh', server, \n",
    "        'nvidia-smi', \n",
    "        '--query-gpu=uuid,gpu_name,utilization.gpu,memory.used,memory.total', \n",
    "        '--format=csv,noheader,nounits',\n",
    "        stdout=asyncio.subprocess.PIPE\n",
    "    )\n",
    "    stdout, _ = await proc.communicate()\n",
    "    return stdout.decode('utf-8').splitlines()\n",
    "\n",
    "async def gather_gpu_stats():\n",
    "    servers = ['gpu3', 'gpu4', 'gpu5']\n",
    "    tasks = [asyncio.create_task(get_gpu_stats(server)) for server in servers]\n",
    "    results = await asyncio.gather(*tasks)\n",
    "    return results\n",
    "\n",
    "def get_gpus() -> list[Gpu]:\n",
    "    gpus = []\n",
    "    results = asyncio.run(gather_gpu_stats())\n",
    "    for server, result in zip(['gpu3', 'gpu4', 'gpu5'], results):\n",
    "        for i, stat in enumerate(csv.reader(result, delimiter=',')):\n",
    "            gpus.append(\n",
    "                Gpu(\n",
    "                    server=server, \n",
    "                    uuid=stat[0], \n",
    "                    id=f\"{i}\",\n",
    "                    name=stat[1][1:],\n",
    "                    utilization=float(stat[2].strip('%')), \n",
    "                    memory_usage=int(int(stat[3])/int(stat[4])*100),\n",
    "                    timestamp=datetime.now()\n",
    "                )\n",
    "            )\n",
    "    return gpus\n",
    "\n",
    "print(timeit.timeit(\"get_gpus()\", setup=\"from __main__ import get_gpus\", number=1))\n"
   ]
  },
  {
   "cell_type": "code",
   "execution_count": null,
   "metadata": {},
   "outputs": [],
   "source": []
  }
 ],
 "metadata": {
  "kernelspec": {
   "display_name": "schedulearn",
   "language": "python",
   "name": "python3"
  },
  "language_info": {
   "codemirror_mode": {
    "name": "ipython",
    "version": 3
   },
   "file_extension": ".py",
   "mimetype": "text/x-python",
   "name": "python",
   "nbconvert_exporter": "python",
   "pygments_lexer": "ipython3",
   "version": "3.10.4"
  },
  "orig_nbformat": 4,
  "vscode": {
   "interpreter": {
    "hash": "6d076e4b4733baeb8f06e5fb62baae335452315d319e1f6c2ff42bd4b0c75ec6"
   }
  }
 },
 "nbformat": 4,
 "nbformat_minor": 2
}
