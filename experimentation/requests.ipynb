{
 "cells": [
  {
   "cell_type": "code",
   "execution_count": 1,
   "metadata": {},
   "outputs": [],
   "source": [
    "import requests\n",
    "import random\n",
    "import time\n",
    "import numpy as np"
   ]
  },
  {
   "cell_type": "code",
   "execution_count": 2,
   "metadata": {},
   "outputs": [],
   "source": [
    "def get_random_jobs(id, required_gpus):\n",
    "  jobs = [\n",
    "    {\n",
    "      'name': 'PyTorch',\n",
    "      'type': 'PyTorch',\n",
    "      'container_image': 'nathansetyawan96/horovod',\n",
    "      'command': 'python pytorch/pytorch_mnist.py',\n",
    "      'required_gpus': int(required_gpus)\n",
    "    },\n",
    "    {\n",
    "      'name': 'TensorFlow',\n",
    "      'type': 'TensorFlow',\n",
    "      'container_image': 'nathansetyawan96/horovod',\n",
    "      'command': 'python tensorflow2/tensorflow2_mnist.py',\n",
    "      'required_gpus': int(required_gpus)\n",
    "    }\n",
    "  ]\n",
    "  return jobs[id]"
   ]
  },
  {
   "cell_type": "code",
   "execution_count": 3,
   "metadata": {},
   "outputs": [
    {
     "name": "stdout",
     "output_type": "stream",
     "text": [
      "{'message': 'Job with 4 GPUs created successfully'}\n",
      "{'message': 'Job with 4 GPUs created successfully'}\n",
      "{'message': 'Job with 1 GPUs created successfully'}\n",
      "{'message': 'Job with 4 GPUs created successfully'}\n",
      "{'message': 'Job with 4 GPUs created successfully'}\n",
      "{'message': 'Job with 2 GPUs created successfully'}\n",
      "{'message': 'Job with 3 GPUs created successfully'}\n",
      "{'message': 'Job with 3 GPUs created successfully'}\n",
      "{'message': 'Job with 4 GPUs created successfully'}\n",
      "{'message': 'Job with 2 GPUs created successfully'}\n",
      "{'message': 'Job with 4 GPUs created successfully'}\n",
      "{'message': 'Job with 2 GPUs created successfully'}\n",
      "{'message': 'Job with 3 GPUs created successfully'}\n",
      "{'message': 'Job with 4 GPUs created successfully'}\n",
      "{'message': 'Job with 3 GPUs created successfully'}\n",
      "{'message': 'Job with 4 GPUs created successfully'}\n",
      "{'message': 'Job with 3 GPUs created successfully'}\n",
      "{'message': 'Job with 1 GPUs created successfully'}\n",
      "{'message': 'Job with 1 GPUs created successfully'}\n",
      "{'message': 'Job with 2 GPUs created successfully'}\n",
      "{'message': 'Job with 1 GPUs created successfully'}\n",
      "{'message': 'Job with 3 GPUs created successfully'}\n",
      "{'message': 'Job with 2 GPUs created successfully'}\n",
      "{'message': 'Job with 3 GPUs created successfully'}\n",
      "{'message': 'Job with 1 GPUs created successfully'}\n",
      "{'message': 'Job with 3 GPUs created successfully'}\n",
      "{'message': 'Job with 1 GPUs created successfully'}\n",
      "{'message': 'Job with 2 GPUs created successfully'}\n",
      "{'message': 'Job with 3 GPUs created successfully'}\n",
      "{'message': 'Job with 2 GPUs created successfully'}\n"
     ]
    }
   ],
   "source": [
    "job_ids = np.random.randint(0, 2, 30)\n",
    "required_gpus = np.random.randint(1, 5, 30)\n",
    "jobs = [get_random_jobs(job_ids[i], required_gpus[i]) for i in range(30)]\n",
    "for i in range(30):\n",
    "  response = requests.post(\n",
    "    'http://localhost:3000/jobs',\n",
    "    json=jobs[i]\n",
    "  )\n",
    "  print(response.json())\n",
    "  if response.status_code == 200:\n",
    "    print(f\"Job {i+1} created\")\n",
    "  # random sleep time from 1 to 30 seconds\n",
    "  time.sleep(random.randint(1, 30))"
   ]
  }
 ],
 "metadata": {
  "kernelspec": {
   "display_name": "schedulearn",
   "language": "python",
   "name": "python3"
  },
  "language_info": {
   "codemirror_mode": {
    "name": "ipython",
    "version": 3
   },
   "file_extension": ".py",
   "mimetype": "text/x-python",
   "name": "python",
   "nbconvert_exporter": "python",
   "pygments_lexer": "ipython3",
   "version": "3.10.4"
  },
  "orig_nbformat": 4
 },
 "nbformat": 4,
 "nbformat_minor": 2
}
